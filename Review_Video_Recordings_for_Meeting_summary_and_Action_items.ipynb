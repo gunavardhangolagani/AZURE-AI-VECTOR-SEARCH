{
  "nbformat": 4,
  "nbformat_minor": 0,
  "metadata": {
    "colab": {
      "provenance": [],
      "collapsed_sections": [
        "NhpAzRj2TBfv"
      ],
      "authorship_tag": "ABX9TyPFBAksUwssCJKZ0uj4abA6",
      "include_colab_link": true
    },
    "kernelspec": {
      "name": "python3",
      "display_name": "Python 3"
    },
    "language_info": {
      "name": "python"
    }
  },
  "cells": [
    {
      "cell_type": "markdown",
      "metadata": {
        "id": "view-in-github",
        "colab_type": "text"
      },
      "source": [
        "<a href=\"https://colab.research.google.com/github/gunavardhangolagani/AZURE-AI-VECTOR-SEARCH/blob/main/Review_Video_Recordings_for_Meeting_summary_and_Action_items.ipynb\" target=\"_parent\"><img src=\"https://colab.research.google.com/assets/colab-badge.svg\" alt=\"Open In Colab\"/></a>"
      ]
    },
    {
      "cell_type": "markdown",
      "source": [
        "## Whisper setup"
      ],
      "metadata": {
        "id": "BRP-6LoeSxPy"
      }
    },
    {
      "cell_type": "code",
      "execution_count": 7,
      "metadata": {
        "id": "319EUQ19SoGG"
      },
      "outputs": [],
      "source": [
        "%%capture\n",
        "!pip install openai-whisper"
      ]
    },
    {
      "cell_type": "code",
      "source": [
        "import whisper\n",
        "model = whisper.load_model(\"base\")\n",
        "print(model)"
      ],
      "metadata": {
        "colab": {
          "base_uri": "https://localhost:8080/"
        },
        "id": "T2_8Hpn6TlSa",
        "outputId": "4e2ede32-d7d9-47cf-a5d9-99b0c8cdb57d"
      },
      "execution_count": 8,
      "outputs": [
        {
          "output_type": "stream",
          "name": "stdout",
          "text": [
            "Whisper(\n",
            "  (encoder): AudioEncoder(\n",
            "    (conv1): Conv1d(80, 512, kernel_size=(3,), stride=(1,), padding=(1,))\n",
            "    (conv2): Conv1d(512, 512, kernel_size=(3,), stride=(2,), padding=(1,))\n",
            "    (blocks): ModuleList(\n",
            "      (0-5): 6 x ResidualAttentionBlock(\n",
            "        (attn): MultiHeadAttention(\n",
            "          (query): Linear(in_features=512, out_features=512, bias=True)\n",
            "          (key): Linear(in_features=512, out_features=512, bias=False)\n",
            "          (value): Linear(in_features=512, out_features=512, bias=True)\n",
            "          (out): Linear(in_features=512, out_features=512, bias=True)\n",
            "        )\n",
            "        (attn_ln): LayerNorm((512,), eps=1e-05, elementwise_affine=True)\n",
            "        (mlp): Sequential(\n",
            "          (0): Linear(in_features=512, out_features=2048, bias=True)\n",
            "          (1): GELU(approximate='none')\n",
            "          (2): Linear(in_features=2048, out_features=512, bias=True)\n",
            "        )\n",
            "        (mlp_ln): LayerNorm((512,), eps=1e-05, elementwise_affine=True)\n",
            "      )\n",
            "    )\n",
            "    (ln_post): LayerNorm((512,), eps=1e-05, elementwise_affine=True)\n",
            "  )\n",
            "  (decoder): TextDecoder(\n",
            "    (token_embedding): Embedding(51865, 512)\n",
            "    (blocks): ModuleList(\n",
            "      (0-5): 6 x ResidualAttentionBlock(\n",
            "        (attn): MultiHeadAttention(\n",
            "          (query): Linear(in_features=512, out_features=512, bias=True)\n",
            "          (key): Linear(in_features=512, out_features=512, bias=False)\n",
            "          (value): Linear(in_features=512, out_features=512, bias=True)\n",
            "          (out): Linear(in_features=512, out_features=512, bias=True)\n",
            "        )\n",
            "        (attn_ln): LayerNorm((512,), eps=1e-05, elementwise_affine=True)\n",
            "        (cross_attn): MultiHeadAttention(\n",
            "          (query): Linear(in_features=512, out_features=512, bias=True)\n",
            "          (key): Linear(in_features=512, out_features=512, bias=False)\n",
            "          (value): Linear(in_features=512, out_features=512, bias=True)\n",
            "          (out): Linear(in_features=512, out_features=512, bias=True)\n",
            "        )\n",
            "        (cross_attn_ln): LayerNorm((512,), eps=1e-05, elementwise_affine=True)\n",
            "        (mlp): Sequential(\n",
            "          (0): Linear(in_features=512, out_features=2048, bias=True)\n",
            "          (1): GELU(approximate='none')\n",
            "          (2): Linear(in_features=2048, out_features=512, bias=True)\n",
            "        )\n",
            "        (mlp_ln): LayerNorm((512,), eps=1e-05, elementwise_affine=True)\n",
            "      )\n",
            "    )\n",
            "    (ln): LayerNorm((512,), eps=1e-05, elementwise_affine=True)\n",
            "  )\n",
            ")\n"
          ]
        }
      ]
    },
    {
      "cell_type": "code",
      "source": [
        "%%capture\n",
        "! pip install ffmpeg-python pytube"
      ],
      "metadata": {
        "id": "GVcvaBEuW3pV"
      },
      "execution_count": 9,
      "outputs": []
    },
    {
      "cell_type": "markdown",
      "source": [
        "## Basic requirements"
      ],
      "metadata": {
        "id": "NhpAzRj2TBfv"
      }
    },
    {
      "cell_type": "code",
      "source": [
        "%%capture\n",
        "!pip install streamlit\n",
        "#openai\n",
        "!pip install langchain\n",
        "!pip install langchain-community\n",
        "!pip install python-dotenv\n",
        "!pip install langchain-fireworks\n",
        "!pip install requests\n",
        "!pip install fireworks-ai\n",
        "!pip install pytube\n",
        "!pip install langchain-community"
      ],
      "metadata": {
        "id": "AN7kuXRNS9-o"
      },
      "execution_count": 10,
      "outputs": []
    },
    {
      "cell_type": "markdown",
      "source": [
        "## Fireworks(LlaMa-3)Setup"
      ],
      "metadata": {
        "id": "t6Ae5m3RTObn"
      }
    },
    {
      "cell_type": "code",
      "source": [
        "import os\n",
        "import requests\n",
        "import fireworks.client\n",
        "import whisper\n",
        "import subprocess\n",
        "from fireworks.client import Fireworks\n",
        "from pytube import YouTube\n",
        "# import openai\n",
        "#load_dotenv()\n",
        "#openai_api_key = os.getenv(\"OPENAI_API_KEY\")\n",
        "#fireworks_api_key = os.getenv(\"FIREWORKS_API_KEY\")"
      ],
      "metadata": {
        "id": "e0v9lVDLTLH7"
      },
      "execution_count": 11,
      "outputs": []
    },
    {
      "cell_type": "code",
      "source": [
        "import getpass\n",
        "api_key = getpass.getpass(\"Enter your API Key...\")"
      ],
      "metadata": {
        "colab": {
          "base_uri": "https://localhost:8080/"
        },
        "id": "OGCi4JXQWSVP",
        "outputId": "988fdfd7-a526-4537-e1de-e0deb7dd6adb"
      },
      "execution_count": 12,
      "outputs": [
        {
          "name": "stdout",
          "output_type": "stream",
          "text": [
            "Enter your API Key...··········\n"
          ]
        }
      ]
    },
    {
      "cell_type": "code",
      "source": [
        "# Function to download YouTube video\n",
        "def download_youtube_video(youtube_url, video_output):\n",
        "    yt = YouTube(youtube_url)\n",
        "    video_stream = yt.streams.filter(only_audio=True).first()\n",
        "    video_stream.download(filename=video_output)\n",
        "# Function to extract audio from video\n",
        "def extract_audio(video_path, audio_output):\n",
        "    command = f\"ffmpeg -i {video_path} -q:a 0 -map a {audio_output}\"\n",
        "    subprocess.run(command, shell=True)\n",
        "\n",
        "# Function to transcribe audio using Whisper\n",
        "def transcribe_audio(audio_path):\n",
        "    model = whisper.load_model(\"base\")\n",
        "    result = model.transcribe(audio_path)\n",
        "    return result[\"text\"]\n",
        "\n",
        "# Function to extract action items using Fireworks\n",
        "def extract_action_items(transcription):\n",
        "    prompt = f\"Extract action items from the following meeting transcript:\\n\\n{transcription}\\n\\nAction items:\"\n",
        "    fireworks.client.api_key = api_key\n",
        "    client = Fireworks(api_key=api_key)\n",
        "    fw_model_dir = \"accounts/fireworks/models/\"\n",
        "    model = \"llama-v3-70b-instruct\"\n",
        "    model = fw_model_dir + model\n",
        "    response = fireworks.client.Completion.create(\n",
        "        model=model,\n",
        "        prompt=prompt,\n",
        "        max_tokens=256,\n",
        "        temperature=0\n",
        "    )\n",
        "    action_items = response.choices[0].text\n",
        "    return action_items\n",
        "\n",
        "# Main process function\n",
        "def process_video(video_file=None, youtube_url=None):\n",
        "    video_file_path = \"downloaded_video.mp4\"\n",
        "    audio_file_path = \"output_audio.mp3\"\n",
        "\n",
        "    if youtube_url:\n",
        "        download_youtube_video(youtube_url, video_file_path)\n",
        "    elif video_file:\n",
        "        with open(video_file_path, \"wb\") as f:\n",
        "            f.write(video_file.read())\n",
        "\n",
        "    extract_audio(video_file_path, audio_file_path)\n",
        "    transcription = transcribe_audio(audio_file_path)\n",
        "    action_items = extract_action_items(transcription)\n",
        "\n",
        "    os.remove(video_file_path)  # Clean up video file\n",
        "    os.remove(audio_file_path)  # Clean up audio file\n",
        "\n",
        "    return transcription, action_items\n",
        "\n",
        "# Input from user\n",
        "youtube_url = input(\"Enter YouTube URL (leave blank if uploading a video file): \").strip()\n",
        "video_file = None\n",
        "\n",
        "if not youtube_url:\n",
        "    from IPython.display import display\n",
        "    import ipywidgets as widgets\n",
        "\n",
        "    video_file = widgets.FileUpload(accept=\".mp4\", multiple=False)\n",
        "    display(video_file)\n",
        "\n",
        "    while not video_file.value:\n",
        "        pass  # Wait for the user to upload a file\n",
        "\n",
        "    video_file = next(iter(video_file.value.values()))\n",
        "\n",
        "# Process the video\n",
        "transcription, action_items = process_video(video_file=video_file, youtube_url=youtube_url)\n",
        "\n",
        "# Display the results\n",
        "import textwrap\n",
        "wrapped_transcription = \"\\n\".join(textwrap.wrap(transcription, width=80))\n",
        "print(\"### Transcription:\\n\")\n",
        "print(wrapped_transcription)\n",
        "print(\"\\n### Action Items:\\n\")\n",
        "print(action_items)"
      ],
      "metadata": {
        "colab": {
          "base_uri": "https://localhost:8080/"
        },
        "id": "0FDTZxnVW_mg",
        "outputId": "d26fd193-a132-4c8f-f552-be6ecdf57aff"
      },
      "execution_count": 13,
      "outputs": [
        {
          "name": "stdout",
          "output_type": "stream",
          "text": [
            "Enter YouTube URL (leave blank if uploading a video file): https://www.youtube.com/watch?v=rrLOkkIGGD0&pp=ygUnR3JvdXAgZGlzY3Vzc2lvbiB0YWxrcyB0b3AgdW5pdmVyc2l0aWVz\n"
          ]
        },
        {
          "output_type": "stream",
          "name": "stderr",
          "text": [
            "/usr/local/lib/python3.10/dist-packages/whisper/transcribe.py:115: UserWarning: FP16 is not supported on CPU; using FP32 instead\n",
            "  warnings.warn(\"FP16 is not supported on CPU; using FP32 instead\")\n"
          ]
        },
        {
          "output_type": "stream",
          "name": "stdout",
          "text": [
            "### Transcription:\n",
            "\n",
            " Justin Trump Before we start this debate, there have been lots of points of\n",
            "view on whether to allow 100% of the ARR in money brand and whether it should be\n",
            "in the health economy. See, we are 25 of us and we have got about 30 minutes.\n",
            "30-35 minutes. So please restrict your sense to at least max five sentences at\n",
            "each time, you speak, and also allow maintain discipline by allowing your fellow\n",
            "colleague to speak. And that's it. And you must have had a lot of group\n",
            "discussions in your college so you know it better than us. So we open the house,\n",
            "you can begin. I am against this particular behind retail. I believe because the\n",
            "first reason is it is going to display a lot of retail moment pop stores which\n",
            "an argument against this is given that it will create jobs. But the kind of\n",
            "nature of the job that will create will be mostly blue collars and everywhere\n",
            "the jobs while the people that they will display would be the self-owned\n",
            "entrepreneurs would be tensile owning a store and probably there is a great\n",
            "great amount of entrepreneurship that can analyze in the future which is not\n",
            "possible in the nature of job that is the blue collars job that these particular\n",
            "people have. And the government has also added a clause that at least 30% of the\n",
            "goods they have to be sourced from the small and medium enterprises. So they\n",
            "won't be at that big loss. Let us also follow the number. I think adding all to\n",
            "that, first of all they have restricted the opening of multi-brand stores to a\n",
            "city where the population is greater than 10 million. First thing is that and\n",
            "second thing is that mom and pop store, okay it will be affected to a extent but\n",
            "you can't have a multi-brand store in each new kind corner of the city. Then we\n",
            "are talking about the employment things that we have to add a point that we can\n",
            "do a skill that is not imposed. I agree with you that we will have shorter or\n",
            "shorter plan if we see. So there would be a lot of misplaced in the jobs.\n",
            "Probably the level of local procurement has to increase. If the level of local\n",
            "procurement increases, what will happen is the people who are actually supplying\n",
            "to the local mom and pop stores will not actually supply to mom and pop stores\n",
            "but actually supply to the big FDI retailers. How it will help the consumers\n",
            "like people like you and me why? Because we would be getting the same both and\n",
            "services at a pretty lower cost. And second thing is the order. We will be\n",
            "adding one more thing more to add. The short retailers will go out of the\n",
            "market. They will create unemployment as well because for India the distribution\n",
            "channel is very large and we have lot of intermediate fees in our short\n",
            "retailers. So first of all it will create unemployment because the skilled\n",
            "labour will get job if mutturing planning will come because of course they will\n",
            "hire only those people who have knowledge of something so they want that. But\n",
            "what about those people who are into the intermediate section and those who are\n",
            "not skilled? So for them it is not good and the chaos which it is coming into\n",
            "that whether we should give or not should is this because of this thing is those\n",
            "who it is always political parties are fighting because of the vote ban. People\n",
            "who are into this intermediate section and short term retail running they don't\n",
            "want this FBI to come in and second thing is those people they are not paying\n",
            "taxes properly and those who will come in India like foreign directors it will\n",
            "generate revenues. They will pay taxes so in short term here of course it is a\n",
            "decorative thing that Texas will come revenues will come but for long term it\n",
            "will go up. You know like China actually produces a lot of high quality goods\n",
            "but they are all aimed at the US market or the advanced markets. Why are we\n",
            "actually being the market where they are dumping all their substandard goods?\n",
            "That is probably because we are a price sensitive audience let's become more\n",
            "than just being price sensitive. Let's become a quality sensitive audience. So\n",
            "bringing retail 100% retail, 100% FBI retail will do exactly that. It will\n",
            "benefit a lot of investors obviously foreign investors if they have knowledge of\n",
            "the local markets it will help them and the Indian companies will learn how to\n",
            "make better quality products. So what is to stay in competition? So the consumer\n",
            "will benefit from the competition and by having options in not just arms, sub-\n",
            "quality, sub-standard products we have quality products, international level\n",
            "products and finally India will be able to compete on an international level\n",
            "with not just the growing countries with the top level, that is the leaders that\n",
            "we call the market. And the main problem with FBI retail could be the\n",
            "implementation. Why cause if implementation is not in properly the local moment\n",
            "pop stores that India is known as the country of moment pop stores. So if the\n",
            "local moment pop stores get wiped out we need to employ those people. Now this\n",
            "could happen as a part of the CSR activities that is multi brand details could\n",
            "eventually take like if I am expressing 10 people I will make sure that those 10\n",
            "people either work as my channel distributors they help me procurement or they\n",
            "help the customers buy those stuff. Of course those people know the customer\n",
            "preferences like over a nuclear person who is a local item. I will know yes at\n",
            "this point in time this point in this like say a particular word is useful. So\n",
            "that inside with help the multi brand details to store goods according to their\n",
            "needs. Taking part in the discussion about the pros and cons of any scenario. I\n",
            "believe that we decide the side which is which has the lock every scenario has\n",
            "pros and cons but we decide the side which has the longer list. So while coming\n",
            "back the cons obviously if the FBI would be made 100% the that's the\n",
            "stakeholders which earlier was 49% they will not be there. So if the company\n",
            "benefits the benefit would be going to the foreign market not to the industry\n",
            "that actually belong to our company. But again if we talk about the pros let's\n",
            "say an example when a word of phone was accused of tax evictions due to the laws\n",
            "or that was got the general idea on the truth. And because of that we almost\n",
            "lost around 8 billion dollars of investment in India because people are afraid\n",
            "to invest in India and also the ownership was 49% at that time and they did not\n",
            "like the idea of being not the owner of the majority owner of the firm. So\n",
            "that's why it was changed to 50% later on and the discussion has been made that\n",
            "should it be made 100% or not. So I think the pros list is longer and we should\n",
            "go with the. Okay as was now Indian RTS sector is mainly made up of the small\n",
            "Priyana shops and the small cross-starts which has spread millions of their\n",
            "spread all over the country as well as some of the supermarkets. Now the benefit\n",
            "of having 100% FBI in the multi-duty sector will be that they will have the\n",
            "benefit of the economy of the scale. They will be able to get better outsource\n",
            "the product from the cheap sources as well as they can assure the quality of the\n",
            "products. They have better inventory management, they have efficient supply\n",
            "chain management. So the benefit of the 100% FBI in the multi-duty sector will\n",
            "be the consumers and they will be able to get better quality products and cheap\n",
            "price. Good afternoon everyone. I think 100% FBI in the multi-brand retail is\n",
            "not a good idea. Firstly it will on the very spot it will adversely affect the\n",
            "local Indian players. They will not be able to compete with the foreign brands\n",
            "in terms of both price, quality, etc. At the same time it will grow on Indian\n",
            "infrastructure and at the same time it will have to be the hampari resources,\n",
            "Indian resources but will benefit from Indian resources. We are looking from the\n",
            "point of view that it will generate employment etc. But if the eye is coming in\n",
            "the country it is main purpose is to unprofit for its own. India has always been\n",
            "a dumping ground for the substandard goods. I believe there is a clause in this\n",
            "particular act that has been given by the government that 25% of the so-soing of\n",
            "the goods will be from India that is from small and medium enterprises. And\n",
            "there is no limit on the 75% that Walmart is free to so-so from the outside. So\n",
            "you will get spices from Mexico, you will get a whole lot of goods from China\n",
            "that may be of self-subsstandard quality that government does not have a control\n",
            "on. Second of all the skill development that shall be taken as a CSR measure,\n",
            "the government cannot put riders on the business to do a business in certain\n",
            "way. This already an act which says 2% of the profits shall go to the CSR\n",
            "activities and to again burden the company with a particular clause shall hamper\n",
            "the very entry of these particular multi brand details in India. Third is the\n",
            "restricted to one and two tia cities. Well the political decisions are always\n",
            "progressive in steps. Today they are saying metro cities and cities with\n",
            "population of this lack. But as years would pass there will again be a pressure\n",
            "and a situation would be created when they were in their pressure created by\n",
            "these multi brand retours on the government to let them access those markets\n",
            "that are tia 2 and tia 2 and rural cities. Fourth is the people are saying that\n",
            "it will be a consumer tax. The people are saying that the moment pop stores do\n",
            "not pay taxes. Well I believe and to bring these retail stores would bring in\n",
            "the taxes. Well I believe that an administrative lapse cannot be replaced by an\n",
            "economic decision wherein you have to fix your own administrative and tax\n",
            "collection process rather than replacing one devil with another devil that is\n",
            "going to create a whole lot of problem not only to the consumers but also to the\n",
            "farmers if it monopolizes through its territory pricing. Multi brand details can\n",
            "be accounted for in the taxation procedure and it can be accounted in a proper\n",
            "way unlike a Kiranah store which has no proper billing system. Every retail\n",
            "brand has a billing system proper billing system in the hidden place and another\n",
            "is that in our Indian economy in our country there is a possibility that we lack\n",
            "infrastructure facilities. So there will be a development of storage facilities\n",
            "which is the most needed thing right now and another benefit will be to the\n",
            "farmers because they will get the right price for the product and the\n",
            "elimination of middlemen will be there. It is for the short run but in the long\n",
            "run the multi brand detail will have an upper hand there is a possibility that\n",
            "they will have monopoly on that too but in the short run it is good for the\n",
            "farmers and for the consumers also because they have extra spending money and\n",
            "they get all the price prices will be reduced. But then there is 40% of\n",
            "population is still below the poverty line so they are not concerned about\n",
            "quality as of now. As of now as of the government our work should be providing\n",
            "goods to everybody basic necessities to everybody. So quality comes second to\n",
            "that first make the goods available. For me multi brand stores would be more of\n",
            "a regional concept when it comes to India it would be a nation-wide concept.\n",
            "Moreover employment of unskilled workers would not be possible with it. Yes\n",
            "infrastructure is there but then there are a lot of things that India needs to\n",
            "focus apart from this. For me FDI would benefit if at all it considers\n",
            "production of the government emphasizes on producing a part of it in India. Then\n",
            "it would probably be helpful. As of now I don't think it is a good idea. Thank\n",
            "you. And Dr. Madhya everyone in my opinion 100% India investment in multi brand\n",
            "media is a good idea. First because this is the age of globalization and India\n",
            "is a powerful tool for economic growth. We can all look at China what\n",
            "achievements it has reached because of being a such an attractive investment\n",
            "resolution. And secondly in 100% India investment would obviously lead to more\n",
            "employment as pointed out by so many people. And it will also lead so many\n",
            "companies can increase the skills. It can provide trainings to the people. Of\n",
            "course it will not lead to immediate increase in the skills and obviously as\n",
            "pointed out by you the blue color workers population would increase. In the\n",
            "longer it would certainly help them to progress. And if we also lead to increase\n",
            "in the productivity because of improvement in technology and improved methods of\n",
            "warehousing less wastage and less wastage in subsidies and everything. And for a\n",
            "population that is in India collective benefit is much more beneficial than\n",
            "collective benefit is much more desired than a single person's benefit. So I\n",
            "think 100% FTI is a good idea. I would like to analyze the pros and cons of it.\n",
            "So besides the points already mentioned I believe FTI with itself brings out\n",
            "systematic methodologies of working. Along with that when a foreign investment\n",
            "comes in our country it will greatly increase the value of our own currency. So\n",
            "definitely the value of the interlux will rise and which will be a benefit for\n",
            "the economy. I am also in the favor of 100% FTI in retail. We want to talk about\n",
            "a lot of facts and figures and obviously there have been like hundreds of\n",
            "intellectual minds who actually started the concept of FTI in retail. So I would\n",
            "like to contradict all those people who have actually spoken against it. First\n",
            "of all yes the unorganized sector compromets is a large part of the nation. So\n",
            "tax evasion is definitely there. Indian economy suffers maximum because of the\n",
            "tax evasion which happens in the unorganized sector. Other than that we are just\n",
            "looking at the short term perspectives. Other people who have Kiraana stores\n",
            "they will be losing their jobs. But then when you ask a child who has father's\n",
            "into Kiraana business or something he is saying when I grow up I will join the\n",
            "business. Our youth is the biggest asset of a nation and here generations of\n",
            "kids who have already planned that guest will be joining the Kiraana business.\n",
            "No skill development is there and there is a huge skill loss which happens\n",
            "there. Other than that people who said that India is a developing nation. Of\n",
            "course when FTI retail comes in then a lot of rural and agricultural people they\n",
            "will get a better opportunity to come in the urban side right. Right now the\n",
            "middlemen of hawkers they are eating upon the profits of the farmers. So it will\n",
            "actually be a benefit for them and it won't be like a giant eating their\n",
            "opportunities or anything else. Apart from that if the end of the day will bring\n",
            "in a lot of advanced technologies which will actually let me take the example of\n",
            "food. So we will have prequel chambers, refrigerated vehicles and will actually\n",
            "prevent the loss of and waste of food which happens. So it will again help for\n",
            "the economy. So I think every end of the day should definitely be taken up.\n",
            "Walmart in the US and GD5 it's a huge success story and then it moved to Mexico\n",
            "and it was successful over there as well. Then it moved to Germany and what\n",
            "actually happened was that the German government, it knew that when Walmart is\n",
            "actually going to vip out the local vendors or the local competition that is\n",
            "there in the German market. So there will some rules and regulations that will\n",
            "put into place that there will be certain population only into those places\n",
            "where Walmart would be there. We need to realize that it's just not the\n",
            "infrastructure or not the transportation. I absolutely agree with it that they\n",
            "are being a developing economy and we are looking at factors where more\n",
            "employment opportunities will be provided. But one thing that we need to realize\n",
            "is that if you give 100% FDI it means you are giving them normally and the huge\n",
            "retailer, the big retailer is going to maximize this process by pushing the\n",
            "local vendors. So I'm against 100% FDI investment. So when we are talking about\n",
            "technology it does bring a lot of improvements in the storage capacities, a lot\n",
            "of development in infrastructure and the concern is the ownership of such\n",
            "technology, the ownership of such know-hars would definitely be in the hands of\n",
            "those MNCs and not in the hands of Indian companies. So their technology\n",
            "respects to those companies which come as MNCs is not in the company. So there\n",
            "is no proof that... So summarize this one from this side and maybe one from this\n",
            "side. But just be careful either you stand for the motion or not for the motion.\n",
            "Don't take a big stand. So for everybody who is talking for the motion who is in\n",
            "favor of 100% FDI in retail, a lot of people said that it is going to eliminate\n",
            "a lot of middlemen. But somehow whenever we talk about the voices of our\n",
            "society, how many people are actually for 100% D&D? Put your hands up. The\n",
            "Motivant Party, 4-5-6-7-8-9-10-11-11-11-14. Thank you. We just get it. In 1963\n",
            "with the opening of a small sugar cane crusher, we began to build a heritage of\n",
            "trust. We earned it little by little, building a business conglomerate with a\n",
            "substantial presence across a whole gamut of industries and a healthy appetite\n",
            "for growth. A pioneering name across industries.\n",
            "\n",
            "### Action Items:\n",
            "\n",
            " \n",
            "\n",
            "1. Restrict multi-brand stores to cities with a population of over 10 million.\n",
            "2. Ensure that at least 30% of goods are sourced from small and medium enterprises.\n",
            "3. Implement skill development programs as part of CSR activities.\n",
            "4. Improve infrastructure facilities, such as storage facilities.\n",
            "5. Emphasize production in India to benefit from FDI.\n",
            "6. Implement proper taxation procedures to account for multi-brand retailers.\n",
            "7. Develop systematic methodologies of working.\n",
            "8. Increase the value of the Indian currency.\n",
            "9. Implement rules and regulations to prevent the wiping out of local vendors.\n",
            "10. Ensure that ownership of technology and know-how remains with Indian companies.\n"
          ]
        }
      ]
    },
    {
      "cell_type": "markdown",
      "source": [
        "### Gradio interface"
      ],
      "metadata": {
        "id": "thMXtEy0Ynak"
      }
    },
    {
      "cell_type": "code",
      "source": [
        "%%capture\n",
        "!pip install gradio"
      ],
      "metadata": {
        "id": "FYEb2xo9clyy"
      },
      "execution_count": 15,
      "outputs": []
    },
    {
      "cell_type": "code",
      "source": [
        "import gradio as gr\n",
        "\n",
        "def process_video(video_file=None, youtube_url=None):\n",
        "    video_file_path = \"downloaded_video.mp4\"\n",
        "    audio_file_path = \"output_audio.mp3\"\n",
        "\n",
        "    if youtube_url:\n",
        "        download_youtube_video(youtube_url, video_file_path)\n",
        "    elif video_file:\n",
        "        with open(video_file_path, \"wb\") as f:\n",
        "            f.write(video_file.read())\n",
        "\n",
        "    extract_audio(video_file_path, audio_file_path)\n",
        "    transcription = transcribe_audio(audio_file_path)\n",
        "    action_items = extract_action_items(transcription)\n",
        "\n",
        "    os.remove(video_file_path)  # Clean up video file\n",
        "    os.remove(audio_file_path)  # Clean up audio file\n",
        "\n",
        "    return transcription, action_items\n",
        "\n",
        "# Gradio Interface\n",
        "with gr.Blocks() as demo:\n",
        "    gr.Markdown(\"# Meeting Summary and Action Items Extractor\")\n",
        "\n",
        "    with gr.Tab(\"Upload Video\"):\n",
        "        with gr.Row():\n",
        "            video_file_input = gr.File(label=\"Upload Video\", file_types=[\"video\"])\n",
        "\n",
        "    with gr.Tab(\"YouTube URL\"):\n",
        "        with gr.Row():\n",
        "            youtube_url_input = gr.Textbox(label=\"Enter YouTube URL\")\n",
        "\n",
        "    extract_button = gr.Button(\"Extract Audio and Transcribe\")\n",
        "\n",
        "    transcription_output = gr.Textbox(label=\"Transcription\", lines=10)\n",
        "    action_items_output = gr.Textbox(label=\"Action Items\", lines=5)\n",
        "\n",
        "    extract_button.click(\n",
        "        process_video,\n",
        "        inputs=[video_file_input, youtube_url_input],\n",
        "        outputs=[transcription_output, action_items_output]\n",
        "    )\n",
        "\n",
        "demo.launch()\n"
      ],
      "metadata": {
        "colab": {
          "base_uri": "https://localhost:8080/",
          "height": 646
        },
        "id": "hfKtEjb6XMOc",
        "outputId": "741b01e2-8bdd-4341-c90a-ae42cebc127a"
      },
      "execution_count": 16,
      "outputs": [
        {
          "output_type": "stream",
          "name": "stdout",
          "text": [
            "Setting queue=True in a Colab notebook requires sharing enabled. Setting `share=True` (you can turn this off by setting `share=False` in `launch()` explicitly).\n",
            "\n",
            "Colab notebook detected. To show errors in colab notebook, set debug=True in launch()\n",
            "Running on public URL: https://00ccb68ad440e7fff2.gradio.live\n",
            "\n",
            "This share link expires in 72 hours. For free permanent hosting and GPU upgrades, run `gradio deploy` from Terminal to deploy to Spaces (https://huggingface.co/spaces)\n"
          ]
        },
        {
          "output_type": "display_data",
          "data": {
            "text/plain": [
              "<IPython.core.display.HTML object>"
            ],
            "text/html": [
              "<div><iframe src=\"https://00ccb68ad440e7fff2.gradio.live\" width=\"100%\" height=\"500\" allow=\"autoplay; camera; microphone; clipboard-read; clipboard-write;\" frameborder=\"0\" allowfullscreen></iframe></div>"
            ]
          },
          "metadata": {}
        },
        {
          "output_type": "execute_result",
          "data": {
            "text/plain": []
          },
          "metadata": {},
          "execution_count": 16
        }
      ]
    },
    {
      "cell_type": "code",
      "source": [],
      "metadata": {
        "id": "oHmNN2QCdJ26"
      },
      "execution_count": null,
      "outputs": []
    }
  ]
}